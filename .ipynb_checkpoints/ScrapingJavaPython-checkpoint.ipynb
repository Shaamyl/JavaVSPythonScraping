{
 "cells": [
  {
   "cell_type": "markdown",
   "metadata": {},
   "source": [
    "# Scraping Java vs Python Jobs"
   ]
  },
  {
   "cell_type": "markdown",
   "metadata": {},
   "source": [
    "Description: We're going to use indeed.com and scrape job links for \"Software Engineer\" roles. We will then scrape each of those link's content and search for the keyword \"Java\" and \"Python\" in the contents. We will then plot the occurences of Java vs Python."
   ]
  },
  {
   "cell_type": "markdown",
   "metadata": {},
   "source": [
    "## Step 1: Scrape job posting links from Indeed.com"
   ]
  },
  {
   "cell_type": "code",
   "execution_count": 179,
   "metadata": {},
   "outputs": [],
   "source": [
    "import bs4\n",
    "import urllib.request\n",
    "\n",
    "#Scraping first page\n",
    "url = \"https://www.indeed.com/jobs?q=Software+Engineer&l=\"\n",
    "soup = bs4.BeautifulSoup(urllib.request.urlopen(url).read())\n",
    "#print(soup.prettify())"
   ]
  },
  {
   "cell_type": "code",
   "execution_count": 180,
   "metadata": {},
   "outputs": [],
   "source": [
    "#Reading job links\n",
    "#/html/body/table[2]/tbody/tr/td/table/tbody/tr/td[1]/div[5]\n",
    "#19 jobs per page, each a with id \"sja\" + 0-18 ,except 7-16, so we can expect 9 per page\n",
    "\n",
    "jobLinks = []\n",
    "for p in range (30):\n",
    "    if p != 0:\n",
    "        url = \"https://www.indeed.com/jobs?q=Software+Engineer&start=\" + str(p*10)\n",
    "        soup = bs4.BeautifulSoup(urllib.request.urlopen(url).read())\n",
    "    for i in range (19):\n",
    "        jobCard = soup.find(\"a\", {\"id\": \"sja\" + str(i)})\n",
    "        if jobCard is not None:\n",
    "            jobLinks += [\"https://www.indeed.com\" + jobCard.get(\"href\")]\n",
    "            #print(str(p) +\",\" + str(i))\n",
    "\n",
    "#found 263 jobs (inconsistency amongst html pages), May 16 2020"
   ]
  },
  {
   "cell_type": "code",
   "execution_count": 181,
   "metadata": {},
   "outputs": [
    {
     "data": {
      "text/plain": [
       "263"
      ]
     },
     "execution_count": 181,
     "metadata": {},
     "output_type": "execute_result"
    }
   ],
   "source": [
    "#Total links\n",
    "len(jobLinks)"
   ]
  },
  {
   "cell_type": "markdown",
   "metadata": {},
   "source": [
    "## Step 2: Search for \"Java\" and \"Python\" in each posting"
   ]
  },
  {
   "cell_type": "code",
   "execution_count": 182,
   "metadata": {},
   "outputs": [],
   "source": [
    "#Checking whether each link mentions Java or Python\n",
    "import re\n",
    "\n",
    "mentions = {\"java\" : 0, \"python\" : 0}\n",
    "\n",
    "c = 0\n",
    "for link in jobLinks:\n",
    "    #print(c)\n",
    "    #print(link)\n",
    "    siteText = str(urllib.request.urlopen(link).read()).lower()\n",
    "    result = None\n",
    "    result = re.search(r\"\\b\" + re.escape(\"java\") + r\"\\b\", siteText)\n",
    "    #print(result)\n",
    "    if result != None:\n",
    "        mentions[\"java\"] += 1\n",
    "    result2 = None\n",
    "    result2 = re.search(r\"\\b\" + r\"python\" + r\"\\b(?!-)\", siteText)\n",
    "    #print(result2)\n",
    "    if result2 != None:\n",
    "        mentions[\"python\"] += 1\n",
    "    c += 1\n",
    "    #print(mentions)\n"
   ]
  },
  {
   "cell_type": "markdown",
   "metadata": {},
   "source": [
    "## Step 3: Plot results"
   ]
  },
  {
   "cell_type": "code",
   "execution_count": 183,
   "metadata": {},
   "outputs": [
    {
     "data": {
      "image/png": "[encoded data removed]",
      "text/plain": [
       "<Figure size 432x288 with 1 Axes>"
      ]
     },
     "metadata": {
      "needs_background": "light"
     },
     "output_type": "display_data"
    }
   ],
   "source": [
    "#Now we have mentions, number of mentions of python and java in job postings on indeed.com\n",
    "#Plotting java vs python mentions\n",
    "import pandas as pd\n",
    "import matplotlib\n",
    "import matplotlib.pyplot as plt\n",
    "%matplotlib inline\n",
    "\n",
    "mentionsSeries = pd.Series(mentions)\n",
    "\n",
    "mentionsSeries.plot(kind = \"bar\")\n",
    "plt.title(\"Programming Language Job Posting Mentions (\" + str(c+1) +\" postings)\" )\n",
    "plt.xlabel(\"language\")\n",
    "plt.ylabel(\"count\")\n",
    "plt.show()"
   ]
  }
 ],
 "metadata": {
  "kernelspec": {
   "display_name": "Python 3",
   "language": "python",
   "name": "python3"
  },
  "language_info": {
   "codemirror_mode": {
    "name": "ipython",
    "version": 3
   },
   "file_extension": ".py",
   "mimetype": "text/x-python",
   "name": "python",
   "nbconvert_exporter": "python",
   "pygments_lexer": "ipython3",
   "version": "3.8.3rc1"
  }
 },
 "nbformat": 4,
 "nbformat_minor": 4
}
